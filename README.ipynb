{
 "cells": [
  {
   "cell_type": "markdown",
   "metadata": {},
   "source": [
    "# Project Overview"
   ]
  },
  {
   "cell_type": "markdown",
   "metadata": {},
   "source": [
    "In this assignment, I built a simplified version of an automation tool that processes\n",
    "incoming technical support requests for a platform (Don't mind the random contexts, but there is a theme, and all requests are related to a technical problem with the platform), simulated as text inputs, and returns structured, actionable responses."
   ]
  },
  {
   "cell_type": "markdown",
   "metadata": {},
   "source": [
    "# Use of every file"
   ]
  },
  {
   "cell_type": "markdown",
   "metadata": {},
   "source": [
    "  - requirements.txt: Contains ll dependencies used in the project along with versions, note that all installations were typed in terminal but explicitely in Gen.ipynb.\n",
    "  - README.ipynb: Contains information about project set up, design and constitues a walk through the workflow.\n",
    "  - main.py: source code.\n",
    "  - test.py: used it to touble shoot and for testing purposes before moving on to FastAPI-Swagger UI.\n",
    "  - Gen.ipynb: Is where I write code and check if it is working before copying it to main.py as I thought it was easier to use than test.py since I am more used to jupyter notebooks than .py files.\n",
    "  - .env: I didn't push the file to Github but it contains my Cohere API key, you can generate yours here https://dashboard.cohere.com/api-keys.\n",
    "  - README.md: Since I prefer to write in Notebook markdowns, Its is useless lol."
   ]
  },
  {
   "cell_type": "markdown",
   "metadata": {},
   "source": [
    "# Setting up the project"
   ]
  },
  {
   "cell_type": "markdown",
   "metadata": {},
   "source": [
    "- IDE: Visual Studio Code\n",
    "- Dependencies: install all dependencies using a powershell terminal in your IDE (VS Code), all versions are in requirements.txt\n",
    "- Make sure to use uvicorn (install it using powershell) as it is great for FastAPI and ensures fast performance (it restarts the app every time you ctr+s)."
   ]
  },
  {
   "cell_type": "markdown",
   "metadata": {},
   "source": [
    "# Test out the app"
   ]
  },
  {
   "cell_type": "markdown",
   "metadata": {},
   "source": [
    "I used FastAPI- Swagger UI (http://127.0.0.1:8000/docs#/default/create_support_request_support_request__post) to simulate communications and tested out POST endpoint and it worked well for me."
   ]
  },
  {
   "cell_type": "markdown",
   "metadata": {},
   "source": [
    "# Design Decisions"
   ]
  },
  {
   "cell_type": "markdown",
   "metadata": {},
   "source": [
    "I wanted to structure the data as much as possible because having the LLM structure the data for you isn't always guaranteed:"
   ]
  },
  {
   "cell_type": "markdown",
   "metadata": {},
   "source": [
    "- Input: SuportRequest entity conaining id (int) and other str fields(namen organization and text which constitutes the most important part of the input AKA the technical request).\n",
    "- Output: ResultRequest entity that contains:\n",
    "  - category of type Category (the request bcould be a bug report, a new feature request, a technical difficulty or could be a mix: miscellaneous )\n",
    "  - Summary: a shrt description of the request\n",
    "  - Extracted Data: its structure and content depends on the category of the request so it could be of type None or of one of the 4 other types, each related to a category."
   ]
  },
  {
   "cell_type": "markdown",
   "metadata": {},
   "source": [
    "# Logic & Architecture\n",
    "Gen.ipynb better depicts the picture I have in mind of interactions between entities and what every function does.\n",
    "Make sure to take a look at it as it is a better reference that main.py."
   ]
  }
 ],
 "metadata": {
  "language_info": {
   "name": "python"
  }
 },
 "nbformat": 4,
 "nbformat_minor": 2
}
