{
 "cells": [
  {
   "cell_type": "markdown",
   "metadata": {},
   "source": [
    "# Imporatations"
   ]
  },
  {
   "cell_type": "code",
   "execution_count": 388,
   "metadata": {},
   "outputs": [
    {
     "name": "stdout",
     "output_type": "stream",
     "text": [
      "Requirement already satisfied: cohere in c:\\users\\newtek\\anaconda3\\lib\\site-packages (5.13.12)\n",
      "Requirement already satisfied: fastavro<2.0.0,>=1.9.4 in c:\\users\\newtek\\anaconda3\\lib\\site-packages (from cohere) (1.10.0)\n",
      "Requirement already satisfied: httpx>=0.21.2 in c:\\users\\newtek\\anaconda3\\lib\\site-packages (from cohere) (0.27.0)\n",
      "Requirement already satisfied: httpx-sse==0.4.0 in c:\\users\\newtek\\anaconda3\\lib\\site-packages (from cohere) (0.4.0)\n",
      "Requirement already satisfied: pydantic>=1.9.2 in c:\\users\\newtek\\anaconda3\\lib\\site-packages (from cohere) (2.10.6)\n",
      "Requirement already satisfied: pydantic-core<3.0.0,>=2.18.2 in c:\\users\\newtek\\anaconda3\\lib\\site-packages (from cohere) (2.27.2)\n",
      "Requirement already satisfied: requests<3.0.0,>=2.0.0 in c:\\users\\newtek\\anaconda3\\lib\\site-packages (from cohere) (2.32.2)\n",
      "Requirement already satisfied: tokenizers<1,>=0.15 in c:\\users\\newtek\\anaconda3\\lib\\site-packages (from cohere) (0.21.0)\n",
      "Requirement already satisfied: types-requests<3.0.0,>=2.0.0 in c:\\users\\newtek\\anaconda3\\lib\\site-packages (from cohere) (2.32.0.20241016)\n",
      "Requirement already satisfied: typing_extensions>=4.0.0 in c:\\users\\newtek\\anaconda3\\lib\\site-packages (from cohere) (4.12.2)\n",
      "Requirement already satisfied: anyio in c:\\users\\newtek\\anaconda3\\lib\\site-packages (from httpx>=0.21.2->cohere) (4.2.0)\n",
      "Requirement already satisfied: certifi in c:\\users\\newtek\\anaconda3\\lib\\site-packages (from httpx>=0.21.2->cohere) (2024.8.30)\n",
      "Requirement already satisfied: httpcore==1.* in c:\\users\\newtek\\anaconda3\\lib\\site-packages (from httpx>=0.21.2->cohere) (1.0.2)\n",
      "Requirement already satisfied: idna in c:\\users\\newtek\\anaconda3\\lib\\site-packages (from httpx>=0.21.2->cohere) (3.7)\n",
      "Requirement already satisfied: sniffio in c:\\users\\newtek\\anaconda3\\lib\\site-packages (from httpx>=0.21.2->cohere) (1.3.0)\n",
      "Requirement already satisfied: h11<0.15,>=0.13 in c:\\users\\newtek\\anaconda3\\lib\\site-packages (from httpcore==1.*->httpx>=0.21.2->cohere) (0.14.0)\n",
      "Requirement already satisfied: annotated-types>=0.6.0 in c:\\users\\newtek\\anaconda3\\lib\\site-packages (from pydantic>=1.9.2->cohere) (0.6.0)\n",
      "Requirement already satisfied: charset-normalizer<4,>=2 in c:\\users\\newtek\\anaconda3\\lib\\site-packages (from requests<3.0.0,>=2.0.0->cohere) (2.0.4)\n",
      "Requirement already satisfied: urllib3<3,>=1.21.1 in c:\\users\\newtek\\anaconda3\\lib\\site-packages (from requests<3.0.0,>=2.0.0->cohere) (2.2.2)\n",
      "Requirement already satisfied: huggingface-hub<1.0,>=0.16.4 in c:\\users\\newtek\\anaconda3\\lib\\site-packages (from tokenizers<1,>=0.15->cohere) (0.28.1)\n",
      "Requirement already satisfied: filelock in c:\\users\\newtek\\anaconda3\\lib\\site-packages (from huggingface-hub<1.0,>=0.16.4->tokenizers<1,>=0.15->cohere) (3.13.1)\n",
      "Requirement already satisfied: fsspec>=2023.5.0 in c:\\users\\newtek\\anaconda3\\lib\\site-packages (from huggingface-hub<1.0,>=0.16.4->tokenizers<1,>=0.15->cohere) (2024.3.1)\n",
      "Requirement already satisfied: packaging>=20.9 in c:\\users\\newtek\\anaconda3\\lib\\site-packages (from huggingface-hub<1.0,>=0.16.4->tokenizers<1,>=0.15->cohere) (23.2)\n",
      "Requirement already satisfied: pyyaml>=5.1 in c:\\users\\newtek\\anaconda3\\lib\\site-packages (from huggingface-hub<1.0,>=0.16.4->tokenizers<1,>=0.15->cohere) (6.0.1)\n",
      "Requirement already satisfied: tqdm>=4.42.1 in c:\\users\\newtek\\anaconda3\\lib\\site-packages (from huggingface-hub<1.0,>=0.16.4->tokenizers<1,>=0.15->cohere) (4.66.4)\n",
      "Requirement already satisfied: colorama in c:\\users\\newtek\\anaconda3\\lib\\site-packages (from tqdm>=4.42.1->huggingface-hub<1.0,>=0.16.4->tokenizers<1,>=0.15->cohere) (0.4.6)\n"
     ]
    }
   ],
   "source": [
    "!python -m pip install cohere --upgrade\n"
   ]
  },
  {
   "cell_type": "code",
   "execution_count": 409,
   "metadata": {},
   "outputs": [],
   "source": [
    "import json\n",
    "import cohere\n",
    "from dotenv import load_dotenv\n",
    "from typing import Optional, Union\n",
    "from typing import Union\n",
    "import os\n",
    "from pydantic import BaseModel\n",
    "from enum import Enum"
   ]
  },
  {
   "cell_type": "code",
   "execution_count": 410,
   "metadata": {},
   "outputs": [
    {
     "data": {
      "text/plain": [
       "True"
      ]
     },
     "execution_count": 410,
     "metadata": {},
     "output_type": "execute_result"
    }
   ],
   "source": [
    "load_dotenv()"
   ]
  },
  {
   "cell_type": "code",
   "execution_count": 411,
   "metadata": {},
   "outputs": [],
   "source": [
    "API_KEY = os.getenv(\"API_KEY\")\n",
    "co = cohere.ClientV2(API_KEY)"
   ]
  },
  {
   "cell_type": "markdown",
   "metadata": {},
   "source": [
    "# Trying out Cohere"
   ]
  },
  {
   "cell_type": "code",
   "execution_count": 412,
   "metadata": {},
   "outputs": [
    {
     "name": "stdout",
     "output_type": "stream",
     "text": [
      "id='2607e9b6-9ca3-420c-bc5d-f260a4f97994' finish_reason='COMPLETE' prompt=None message=AssistantMessageResponse(role='assistant', tool_calls=None, tool_plan=None, content=[TextAssistantMessageResponseContentItem(type='text', text='Hello! How can I help you today?')], citations=None) usage=Usage(billed_units=UsageBilledUnits(input_tokens=3.0, output_tokens=9.0, search_units=None, classifications=None), tokens=UsageTokens(input_tokens=196.0, output_tokens=9.0)) logprobs=None\n"
     ]
    }
   ],
   "source": [
    "response = co.chat(\n",
    "    model=\"command-r-plus\", \n",
    "    messages=[{\"role\": \"user\", \"content\": \"hello world!\"}]\n",
    ")\n",
    "\n",
    "print(response)"
   ]
  },
  {
   "cell_type": "markdown",
   "metadata": {},
   "source": [
    "# Defining a cleaning generation function"
   ]
  },
  {
   "cell_type": "code",
   "execution_count": 413,
   "metadata": {},
   "outputs": [],
   "source": [
    "def get_cohere_response(content: str) -> str:\n",
    "    messages = [{\"role\": \"user\", \"content\": content}]\n",
    "    \n",
    "    try:\n",
    "        chat_response = co.chat(model=\"command-r-plus\", messages=messages)\n",
    "        \n",
    "        if hasattr(chat_response, 'message') and hasattr(chat_response.message, 'content'):\n",
    "            for item in chat_response.message.content:\n",
    "                if hasattr(item, 'type') and item.type == 'text':\n",
    "                    return item.text\n",
    "        print('Cohere Response invalid')\n",
    "        return None  #Type ou bien structure bizarre\n",
    "    except Exception as e:\n",
    "        print(f\"Error calling Cohere API: {e}\")\n",
    "        return None"
   ]
  },
  {
   "cell_type": "code",
   "execution_count": 414,
   "metadata": {},
   "outputs": [
    {
     "name": "stdout",
     "output_type": "stream",
     "text": [
      "Hello! As an AI language model, I don't have feelings, but I'm always here to assist you. How can I help you today?\n"
     ]
    }
   ],
   "source": [
    "# Try it out with a simple msg \n",
    "response_text = get_cohere_response(\"hi how are you today!\")\n",
    "print(response_text)\n"
   ]
  },
  {
   "cell_type": "markdown",
   "metadata": {},
   "source": [
    "## Entities"
   ]
  },
  {
   "cell_type": "code",
   "execution_count": 415,
   "metadata": {},
   "outputs": [],
   "source": [
    "# Input\n",
    "class SupportRequest(BaseModel):\n",
    "    id: int\n",
    "    name: str\n",
    "    organization: str\n",
    "    text: str\n",
    "\n",
    "# Output\n",
    "class Category(Enum):\n",
    "    BUG = 'bug report'\n",
    "    TECH = 'technical difficulties'\n",
    "    FEAT = 'feature requests'\n",
    "    MISC = 'miscellaneous'\n",
    "\n",
    "# Output\n",
    "class ExtractedData(BaseModel):\n",
    "    pass\n",
    "\n",
    "# ExtractedData\n",
    "class BugReportData(ExtractedData):\n",
    "    error_codes: Optional[str]\n",
    "    affected_features: Optional[str]\n",
    "    triggering_actions: Optional[str]\n",
    "\n",
    "# ExtractedData\n",
    "class TechnicalDifficultiesData(ExtractedData):\n",
    "    connection_issues: Optional[str]\n",
    "    performance_issues: Optional[str]\n",
    "    navigation_difficulties: Optional[str]\n",
    "\n",
    "class Urgency(Enum):\n",
    "    LOW = 'low'\n",
    "    MEDIUM = 'medium'\n",
    "    HIGH = 'high'\n",
    "\n",
    "# ExtractedData\n",
    "class FeatureRequestData(ExtractedData):\n",
    "    feature_name: Optional[str]\n",
    "    urgency: Optional[Urgency]\n",
    "    benefits: Optional[str]\n",
    "\n",
    "# Extracted Data     \n",
    "class MiscellaneousData(ExtractedData):\n",
    "    pass\n",
    "\n",
    "# Final output\n",
    "class ResultRequest(BaseModel):\n",
    "    category: Category\n",
    "    summary: str\n",
    "    extracted_data: Union[\n",
    "        BugReportData, TechnicalDifficultiesData, FeatureRequestData, MiscellaneousData, None\n",
    "    ]\n"
   ]
  },
  {
   "cell_type": "markdown",
   "metadata": {},
   "source": [
    "## Prompting"
   ]
  },
  {
   "cell_type": "code",
   "execution_count": 416,
   "metadata": {},
   "outputs": [],
   "source": [
    "PromptCateg = \"\"\"\n",
    "You are a customer service agent specializing in IT support. Categorize the following support request into one of these four categories:  \n",
    "1. **Bug Report**: The user reports a software issue or unexpected behavior.  \n",
    "2. **Technical Difficulties**: The user struggles to use a feature or access functionality.  \n",
    "3. **Feature Request**: The user requests or suggests a new feature.  \n",
    "4. **Miscellaneous**: The request does not clearly fit into a single category or is a mix of the above.  \n",
    "\n",
    "**Examples:**  \n",
    "\n",
    "- **Bug Report**  \n",
    "  _Request: \"I keep getting an error when I try to reset my password. It says 'Invalid token' and won’t let me proceed.\"_  \n",
    "  **Category:** \"bug report\"  \n",
    "\n",
    "- **Technical Difficulties**  \n",
    "  _Request: \"I can’t figure out how to export my reports. The option seems to be missing in my dashboard.\"_  \n",
    "  **Category:** \"technical difficulties\"  \n",
    "\n",
    "- **Feature Request**  \n",
    "  _Request: \"It would be great if there was a dark mode option for the app. It would make it easier to use at night.\"_  \n",
    "  **Category:** \"feature request\"  \n",
    "\n",
    "- **Miscellaneous**  \n",
    "  _Request: \"I’ve been having issues logging in, and I also think a multi-factor authentication feature would be useful.\"_  \n",
    "  **Category:** \"miscellaneous\"  \n",
    "\n",
    "Now categorize this request:  \n",
    "\"\"\"\n",
    "\n",
    "promptSummary = \"You are a customer service agent working in IT, you receive support requests and provide technical support. Give me a concise summary of this support request:\"\n",
    "promptDataBug = \"\"\"\n",
    "You are a customer service agent specializing in IT support. Your task is to extract structured information from bug reports. Below is an example of a bug report and its corresponding structured data:\n",
    "\n",
    "**Example Bug Report:**\n",
    "\"You are a customer service agent specializing in IT support. Your task is to extract structured information from bug reports. Below is an example of a bug report and its corresponding structured data:\n",
    "\n",
    "**Example Bug Report:**\n",
    "\"I encountered an error while using the search feature. The error code is ERR123, and it happens whenever I try to search for a product with special characters. This affects the search functionality, and I can't find any products. Please fix this as soon as possible.\"\n",
    "\n",
    "**Structured Data:**\n",
    "{\n",
    "  \"error_codes\": \"ERR123\",\n",
    "  \"affected_features\": \"Search functionality\",\n",
    "  \"triggering_actions\": \"Searching for products with special characters\"\n",
    "}\n",
    "---\n",
    "Your task is to extract the following information from the new bug report and return it in the exact same structured format as the example above:\n",
    "1. **error_codes**: Any error codes mentioned (if none, leave as null).\n",
    "2. **affected_features**: The feature or functionality affected by the issue.\n",
    "3. **triggering_actions**: The actions or conditions that trigger the issue.\n",
    "\n",
    "Return the structured data in JSON format, exactly like the example above and if u don't have enough info, don't ask for more information, you can leave some features empty. Here is the bug report:\n",
    "\"\"\"\n",
    "promptDataTech = \"\"\"\n",
    "You are a customer service agent specializing in IT support. Your task is to extract structured information from technical difficulty reports. Below is an example of a technical difficulty report and its corresponding structured data:\n",
    "\n",
    "**Example Technical Difficulty Report:**\n",
    "\"I'm experiencing frequent disconnections while using the platform. The website becomes very slow, and sometimes I can't navigate between pages properly. This is making it hard for me to complete my tasks.\"\n",
    "\n",
    "**Structured Data:**\n",
    "{\n",
    "  \"connection_issues\": \"Frequent disconnections while using the platform\",\n",
    "  \"performance_issues\": \"Website becomes very slow\",\n",
    "  \"navigation_difficulties\": \"Can't navigate between pages properly\"\n",
    "}\n",
    "\n",
    "---\n",
    "Your task is to extract the following information from the new technical difficulty report and return it in the exact same structured format as the example above:\n",
    "1. **connection_issues**: Any mentions of connectivity problems (if none, leave as null).\n",
    "2. **performance_issues**: Any mentions of performance slowdowns or lag (if none, leave as null).\n",
    "3. **navigation_difficulties**: Any mentions of difficulties in navigating through the platform (if none, leave as null).\n",
    "\n",
    "Return the structured data in JSON format, exactly like the example above and if u don't have enough info, don't ask for more information, you can leave some features empty. Here is the technical difficulty report:\n",
    "\"\"\"\n",
    "\n",
    "promptDataFeat = \"\"\"\n",
    "You are a customer service agent specializing in IT support. Your task is to extract structured information from feature requests. Below is an example of a feature request and its corresponding structured data:\n",
    "\n",
    "**Example Feature Request:**\n",
    "\"I would love to have a dark mode option for the platform. It's really hard to use at night, and a dark theme would make it much more comfortable. This is quite important for me, as I work late hours.\"\n",
    "\n",
    "**Structured Data:**\n",
    "{\n",
    "  \"feature_name\": \"Dark mode\",\n",
    "  \"urgency\": \"medium\",\n",
    "  \"benefits\": \"More comfortable to use at night, Helpful for working late hours\"\n",
    "}\n",
    "\n",
    "---\n",
    "Your task is to extract the following information from the new feature request and return it in the exact same structured format as the example above:\n",
    "1. **feature_name**: The name of the requested feature.\n",
    "2. **urgency**: The urgency level (low, medium, or high) based on the user's request.\n",
    "3. **benefits**:  The benefits the user mentions for requesting this feature.\n",
    "\n",
    "Return the structured data in JSON format, exactly like the example above and even if you don't have enough info, don't ask for more information, you can leave some fields empty. Here is the feature request:\n",
    "\"\"\""
   ]
  },
  {
   "cell_type": "code",
   "execution_count": 417,
   "metadata": {},
   "outputs": [
    {
     "name": "stdout",
     "output_type": "stream",
     "text": [
      "**Feature Request**\n",
      "\n",
      "The user is explicitly asking for a new feature, which falls directly into the \"Feature Request\" category.\n"
     ]
    }
   ],
   "source": [
    "response_text = get_cohere_response(PromptCateg + \"I need a new feature that does such and such\")\n",
    "print(response_text)"
   ]
  },
  {
   "cell_type": "markdown",
   "metadata": {},
   "source": [
    "### Small scale functions for better structuring"
   ]
  },
  {
   "cell_type": "code",
   "execution_count": 418,
   "metadata": {},
   "outputs": [],
   "source": [
    "from difflib import SequenceMatcher\n",
    "\n",
    "def most_similar(target, options):\n",
    "    return max(options, key=lambda option: SequenceMatcher(None, target, option).ratio())"
   ]
  },
  {
   "cell_type": "code",
   "execution_count": 419,
   "metadata": {},
   "outputs": [
    {
     "name": "stdout",
     "output_type": "stream",
     "text": [
      "hello ons\n"
     ]
    }
   ],
   "source": [
    "target= \"hello Ons\"\n",
    "strs = [\"hello\", \"hi\", \"hi ons\", \"helo ons\", \"hello ons\", \"goodbye\"]\n",
    "best_match = most_similar(target, strs)\n",
    "print(best_match)  "
   ]
  },
  {
   "cell_type": "code",
   "execution_count": null,
   "metadata": {},
   "outputs": [],
   "source": []
  },
  {
   "cell_type": "code",
   "execution_count": 420,
   "metadata": {},
   "outputs": [],
   "source": [
    "#function to categorize requests using prompting and func above\n",
    "def categorize_request(text: str) -> Category:\n",
    "    L = ['bug report', 'feature requests', 'technical difficulties', 'miscellaneous']\n",
    "    category_map = {\n",
    "        'bug report': Category.BUG,\n",
    "        'feature requests': Category.FEAT,\n",
    "        'technical difficulties': Category.TECH,\n",
    "        'miscellaneous': Category.MISC,\n",
    "    }\n",
    "    categ = get_cohere_response(PromptCateg + text)\n",
    "    category_str = most_similar(categ, L)\n",
    "    return category_map[category_str]\n",
    "\n",
    "#function to summarize request in question by querying cohere\n",
    "def generate_summary(text: str) -> str:\n",
    "    return get_cohere_response(promptSummary + text)"
   ]
  },
  {
   "cell_type": "markdown",
   "metadata": {},
   "source": [
    "## Parsing Functions"
   ]
  },
  {
   "cell_type": "code",
   "execution_count": 421,
   "metadata": {},
   "outputs": [],
   "source": [
    "def transform_to_json(input_str):\n",
    "    # Remove the leading and trailing triple backticks and 'json' identifier\n",
    "    json_str = input_str.strip('```json\\n').strip('\\n```')\n",
    "    \n",
    "    # Parse the JSON string into a Python dictionary\n",
    "    json_data = json.loads(json_str)\n",
    "    \n",
    "    return json_data"
   ]
  },
  {
   "cell_type": "code",
   "execution_count": 430,
   "metadata": {},
   "outputs": [],
   "source": [
    "def parse_bug_report(json_string: str):\n",
    "    try:\n",
    "        # Parse JSON string into a dictionary\n",
    "        data = json.loads(json_string)\n",
    "\n",
    "        # Extract values with safe defaults\n",
    "        error_codes = data.get(\"error_codes\", None)\n",
    "        affected_features = data.get(\"affected_features\", None)\n",
    "        triggering_actions = data.get(\"triggering_actions\", None)\n",
    "        D = BugReportData(error_codes=error_codes, affected_features=affected_features, triggering_actions=triggering_actions )\n",
    "\n",
    "        return D\n",
    "\n",
    "    except json.JSONDecodeError as e:\n",
    "        print(f\"Error decoding JSON of Bug ralated data: {e}\")\n",
    "        return None\n",
    "    \n",
    "\n",
    "def parse_tech_diff(json_string: str):\n",
    "    try:\n",
    "        # Parse JSON string into a dictionary\n",
    "        data = json.loads(json_string)\n",
    "\n",
    "        # Extract values with safe defaults\n",
    "        connection_issues = data.get(\"connection_issues\", None)\n",
    "        performance_issues = data.get(\"performance_issues\", None)\n",
    "        navigation_difficulties = data.get(\"navigation_difficultiess\", None)\n",
    "        D = TechnicalDifficultiesData(connection_issues=connection_issues, performance_issues=performance_issues, navigation_difficulties=navigation_difficulties )\n",
    "\n",
    "        return D\n",
    "\n",
    "    except json.JSONDecodeError as e:\n",
    "        print(f\"Error decoding JSON of tech difficulties data: {e}\")\n",
    "        return None\n",
    "    \n",
    "\n",
    "def parse_feat_req(json_string: Union[str, dict]):\n",
    "    try:\n",
    "        # Check if the input is already a dictionary\n",
    "        if isinstance(json_string, dict):\n",
    "            data = json_string  # Use the dictionary directly\n",
    "        else:\n",
    "            # Parse JSON string into a dictionary\n",
    "            data = json.loads(json_string)\n",
    "        \n",
    "        print('Parsed JSON into a dictionary:', data)\n",
    "        print('HMD AALINAAA')\n",
    "\n",
    "        # Extract values with safe defaults\n",
    "        feature_name = data.get(\"feature_name\", None)\n",
    "        urgency = data.get(\"urgency\", None)\n",
    "        benefits = data.get(\"benefits\", None)\n",
    "\n",
    "        # Create and return a FeatureRequestData instance\n",
    "        return FeatureRequestData(feature_name=feature_name, urgency=urgency, benefits=benefits)\n",
    "    \n",
    "    except Exception as e:\n",
    "        print(f\"Error parsing JSON: {e}\")\n",
    "        return FeatureRequestData(feature_name=None, urgency=None, benefits=None)\n",
    "\n",
    "########################################################################\"\""
   ]
  },
  {
   "cell_type": "markdown",
   "metadata": {},
   "source": [
    "# Final Support Request Processing Function"
   ]
  },
  {
   "cell_type": "code",
   "execution_count": 423,
   "metadata": {},
   "outputs": [],
   "source": [
    "def process_support_request(support_request: SupportRequest) -> ResultRequest:\n",
    "    \n",
    "    category = categorize_request(support_request.text) \n",
    "\n",
    "    summary = generate_summary(support_request.text)\n",
    "\n",
    "    extracted_data = None\n",
    "    if category == Category.BUG:\n",
    "        extracted_data = parse_bug_report(get_cohere_response(promptDataBug + support_request.text))\n",
    "    elif category == Category.FEAT:\n",
    "        extracted_data = parse_feat_req(transform_to_json(get_cohere_response(promptDataFeat + support_request.text)))\n",
    "    elif category == Category.TECH:\n",
    "        extracted_data = parse_tech_diff(get_cohere_response(promptDataTech + support_request.text))\n",
    "\n",
    "\n",
    "    return ResultRequest(category=category, summary=summary, extracted_data=extracted_data)"
   ]
  },
  {
   "cell_type": "markdown",
   "metadata": {},
   "source": [
    "## Try out"
   ]
  },
  {
   "cell_type": "code",
   "execution_count": 424,
   "metadata": {},
   "outputs": [],
   "source": [
    "new_support_request = SupportRequest(\n",
    "    id=3,\n",
    "    name=\"Leonardo Dicaprio\",\n",
    "    organization=\"Warner Bros\",\n",
    "    text=\"I need a new dark mode feature, it would help me see better at night\"\n",
    ")"
   ]
  },
  {
   "cell_type": "code",
   "execution_count": 425,
   "metadata": {},
   "outputs": [
    {
     "data": {
      "text/plain": [
       "<Category.FEAT: 'feature requests'>"
      ]
     },
     "execution_count": 425,
     "metadata": {},
     "output_type": "execute_result"
    }
   ],
   "source": [
    "categorize_request(new_support_request.text)"
   ]
  },
  {
   "cell_type": "code",
   "execution_count": 426,
   "metadata": {},
   "outputs": [
    {
     "data": {
      "text/plain": [
       "'```json\\n{\\n  \"feature_name\": \"Dark mode\",\\n  \"urgency\": \"medium\",\\n  \"benefits\": \"Better visibility at night\"\\n}\\n```'"
      ]
     },
     "execution_count": 426,
     "metadata": {},
     "output_type": "execute_result"
    }
   ],
   "source": [
    "Trial = get_cohere_response(promptDataFeat + new_support_request.text)\n",
    "Trial"
   ]
  },
  {
   "cell_type": "code",
   "execution_count": 427,
   "metadata": {},
   "outputs": [
    {
     "name": "stdout",
     "output_type": "stream",
     "text": [
      "Parsed JSON into a dictionary: {'feature_name': 'Dark mode', 'urgency': 'medium', 'benefits': 'Better visibility at night'}\n"
     ]
    },
    {
     "data": {
      "text/plain": [
       "FeatureRequestData(feature_name='Dark mode', urgency=<Urgency.MEDIUM: 'medium'>, benefits='Better visibility at night')"
      ]
     },
     "execution_count": 427,
     "metadata": {},
     "output_type": "execute_result"
    }
   ],
   "source": [
    "parse_feat_req(transform_to_json(Trial))"
   ]
  },
  {
   "cell_type": "markdown",
   "metadata": {},
   "source": [
    "### Final Result"
   ]
  },
  {
   "cell_type": "code",
   "execution_count": 431,
   "metadata": {},
   "outputs": [
    {
     "name": "stdout",
     "output_type": "stream",
     "text": [
      "Parsed JSON into a dictionary: {'feature_name': 'Dark mode', 'urgency': 'medium', 'benefits': 'Better visibility at night'}\n",
      "HMD AALINAAA\n"
     ]
    },
    {
     "data": {
      "text/plain": [
       "ResultRequest(category=<Category.FEAT: 'feature requests'>, summary='A customer is requesting a dark mode feature for better night-time visibility.', extracted_data=FeatureRequestData(feature_name='Dark mode', urgency=<Urgency.MEDIUM: 'medium'>, benefits='Better visibility at night'))"
      ]
     },
     "execution_count": 431,
     "metadata": {},
     "output_type": "execute_result"
    }
   ],
   "source": [
    "process_support_request(new_support_request)"
   ]
  }
 ],
 "metadata": {
  "kernelspec": {
   "display_name": "base",
   "language": "python",
   "name": "python3"
  },
  "language_info": {
   "codemirror_mode": {
    "name": "ipython",
    "version": 3
   },
   "file_extension": ".py",
   "mimetype": "text/x-python",
   "name": "python",
   "nbconvert_exporter": "python",
   "pygments_lexer": "ipython3",
   "version": "3.12.4"
  }
 },
 "nbformat": 4,
 "nbformat_minor": 2
}
